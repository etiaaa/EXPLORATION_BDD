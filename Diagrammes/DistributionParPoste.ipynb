{
 "cells": [
  {
   "cell_type": "markdown",
   "id": "9da67d83",
   "metadata": {},
   "source": [
    "# Importation des bibliothèques"
   ]
  },
  {
   "cell_type": "code",
   "execution_count": null,
   "id": "bd0e1348",
   "metadata": {},
   "outputs": [],
   "source": [
    "import pandas as pd\n",
    "import matplotlib.pyplot as plt\n",
    "import seaborn as sns\n",
    "import numpy as np"
   ]
  },
  {
   "cell_type": "markdown",
   "id": "b7056e0d",
   "metadata": {},
   "source": [
    "# Importation des données\n"
   ]
  },
  {
   "cell_type": "code",
   "execution_count": null,
   "id": "48d0a870",
   "metadata": {},
   "outputs": [],
   "source": [
    "dataset = pd.read_excel(\"../BDD/data_fifa_clean.xlsx\")"
   ]
  },
  {
   "cell_type": "code",
   "execution_count": null,
   "id": "f73d285f",
   "metadata": {},
   "outputs": [],
   "source": [
    "# on lit le dataset\n",
    "dataset"
   ]
  },
  {
   "cell_type": "markdown",
   "id": "7d965e03",
   "metadata": {},
   "source": [
    "# 1.Distribution par postes"
   ]
  },
  {
   "cell_type": "code",
   "execution_count": null,
   "id": "d8cbb414",
   "metadata": {},
   "outputs": [],
   "source": [
    "# distribution des joueurs par groupes de postes\n",
    "Occurences_joueurs_par_poste = dataset[\"GroupPositions\"].value_counts().sort_values(ascending=False)\n",
    "sns.barplot(x=Occurences_joueurs_par_poste.index, y=Occurences_joueurs_par_poste.values)\n",
    "plt.xticks(rotation=45, ha='right')\n",
    "plt.title('Distribution : Nobre de joueurs par rapport aux groupes de postes')\n",
    "plt.show()\n"
   ]
  }
 ],
 "metadata": {
  "kernelspec": {
   "display_name": "Python 3 (ipykernel)",
   "language": "python",
   "name": "python3"
  },
  "language_info": {
   "codemirror_mode": {
    "name": "ipython",
    "version": 3
   },
   "file_extension": ".py",
   "mimetype": "text/x-python",
   "name": "python",
   "nbconvert_exporter": "python",
   "pygments_lexer": "ipython3",
   "version": "3.12.0"
  }
 },
 "nbformat": 4,
 "nbformat_minor": 5
}
