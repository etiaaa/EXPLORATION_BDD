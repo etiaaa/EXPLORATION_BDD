{
 "cells": [
  {
   "cell_type": "markdown",
   "id": "9da67d83",
   "metadata": {},
   "source": [
    "# Importation des bibliothèques"
   ]
  },
  {
   "cell_type": "code",
   "execution_count": null,
   "id": "bd0e1348",
   "metadata": {},
   "outputs": [],
   "source": [
    "import pandas as pd\n",
    "import matplotlib.pyplot as plt\n",
    "import seaborn as sns\n",
    "import numpy as np"
   ]
  },
  {
   "cell_type": "markdown",
   "id": "b7056e0d",
   "metadata": {},
   "source": [
    "# Importation des datas"
   ]
  },
  {
   "cell_type": "code",
   "execution_count": null,
   "id": "48d0a870",
   "metadata": {},
   "outputs": [],
   "source": [
    "données = pd.read_excel(\"../BDD/data_fifa_clean.xlsx\")"
   ]
  },
  {
   "cell_type": "code",
   "execution_count": null,
   "id": "f73d285f",
   "metadata": {},
   "outputs": [],
   "source": [
    "# on lit le dataset\n",
    "données"
   ]
  },
  {
   "cell_type": "markdown",
   "id": "7d965e03",
   "metadata": {},
   "source": [
    "# CRITERES PHYSIQUES"
   ]
  },
  {
   "cell_type": "code",
   "execution_count": null,
   "id": "d8cbb414",
   "metadata": {},
   "outputs": [],
   "source": [
    "# distribution des joueurs par groupes de postes\n",
    "Occurences_joueurs_par_poste = données[\"Groupes_postes\"].value_counts().sort_values(ascending=False)\n",
    "sns.barplot(x=Occurences_joueurs_par_poste.index, y=Occurences_joueurs_par_poste.values)\n",
    "plt.xticks(rotation=45, ha='right')\n",
    "plt.show()"
   ]
  },
  {
   "cell_type": "code",
   "execution_count": null,
   "id": "59616988",
   "metadata": {
    "scrolled": true
   },
   "outputs": [],
   "source": [
    "# # On définit les intervalles d'age (borne inférieure et supérieure)\n",
    "# bins = [0, 20, 25, 30, 35, 40, float('inf')]\n",
    "\n",
    "# # On définit légende de chaque groupe d'age \n",
    "# labels = ['<20', '20-25', '25-30', '30-35', '35-40', '40+']\n",
    "\n",
    "# # On ajoute une colonne Groupe_age au DataFrame\n",
    "# données['Groupe_age'] = pd.cut(données['Age'], bins=bins, labels=labels, right=False)\n",
    "\n",
    "# # On calcule la moyenne des IMC par groupe d'age \n",
    "# moyennes_imc_par_groupe = données.groupby('Groupe_age')['IMC'].mean().reset_index()\n",
    "# sns.barplot(x='Groupe_age', y='IMC', data=moyennes_imc_par_groupe)\n",
    "# plt.show()\n"
   ]
  },
  {
   "cell_type": "code",
   "execution_count": null,
   "id": "b9ee693d",
   "metadata": {
    "scrolled": true
   },
   "outputs": [],
   "source": [
    "# taille moyenne par Groupe de poste \n",
    "taille_moyenne = données.groupby(\"Groupes_postes\")[\"Height\"].mean().sort_values(ascending=False)\n",
    "sns.barplot(x=taille_moyenne.index, y=taille_moyenne.values)\n",
    "plt.xticks(rotation=45, ha='right')\n",
    "plt.show()"
   ]
  },
  {
   "cell_type": "markdown",
   "id": "8dd2427f",
   "metadata": {},
   "source": [
    "# CRITERES TECHNIQUES"
   ]
  },
  {
   "cell_type": "markdown",
   "id": "c368a0f5",
   "metadata": {},
   "source": [
    "## Fonctions "
   ]
  },
  {
   "cell_type": "code",
   "execution_count": null,
   "id": "f2bd9678",
   "metadata": {},
   "outputs": [],
   "source": [
    "\"\"\"___________________FONCTION POUR GROUPER ET CALCULER LA MOYENNE DDES COMPETENCES PAR GROUPE DE POSTES_____________________\"\"\"\n",
    "\n",
    "\n",
    "def moyenne_compétences_groupées (Groupe_postes=\"\"):\n",
    "    \n",
    "    index_colonne_debut = données.columns.get_loc(\"Moyenne_Offensive\")\n",
    "    index_colonne_fin = données.columns.get_loc(\"Moyenne_Gardien\")\n",
    "    colonnes_competences = données.columns[index_colonne_debut:index_colonne_fin]\n",
    "    données_groupe = données[données[\"Groupes_postes\"]== Groupe_postes]\n",
    "    moyennes_groupe = données_groupe[colonnes_competences].mean().sort_values(ascending=False)\n",
    "    \n",
    "    return moyennes_groupe\n",
    "\n",
    "\n",
    "\"\"\"___________________________FONCTION POUR CREER LE GRAPHIQUE RADAR POUR CHAQUE GROUPE DE POSTE____________________________\"\"\"\n",
    "\n",
    "    \n",
    "def radar(label=\"\",moyenne_gérée=[],couleur=\"\"):\n",
    "    categories = list(categories_evaluations.keys())\n",
    "    num_categories = 7\n",
    "\n",
    "    # On Crée les angles pour le graphique radar\n",
    "    angles = np.linspace(0, 2 * np.pi, num_categories, endpoint=False).tolist()\n",
    "\n",
    "    # On Complète le graphique radar (On ferme la forme en ajoutant le premier élément à la fin)\n",
    "    moyenne_gérée = np.append(moyenne_gérée, moyenne_gérée[0])\n",
    "    angles += angles[:1]\n",
    "\n",
    "    # On Trace le graphique radar\n",
    "    fig, ax = plt.subplots(figsize=(8, 8), subplot_kw=dict(polar=True))\n",
    "    ax.plot(angles, moyenne_gérée, color=couleur, linewidth=1)\n",
    "    ax.fill(angles, moyenne_gérée, color=couleur, alpha = 0.13, label=label)\n",
    "\n",
    "\n",
    "    # On ajoute des étiquettes pour chaque catégorie\n",
    "    ax.set_xticks(angles[:-1])\n",
    "    ax.set_xticklabels(categories)\n",
    "\n",
    "    # On ajouter une légende\n",
    "    ax.legend(loc='upper right', bbox_to_anchor=(0.1, 0.1))\n",
    "    \n",
    "    # On afficher le graphique radar\n",
    "    return plt.show()\n",
    "\n",
    "\"\"\"___________________________FONCTION POUR VOIR LA DISTRIBUTION DES COMPETENCES PAR GROUPE DE POSTES________________________\"\"\"\n",
    "\n",
    "    \n",
    "def distribution_moyenne_compétences(Groupes_postes=\"\"):\n",
    "    index_colonne_debut = données.columns.get_loc(\"Crossing\")\n",
    "    index_colonne_fin = données.columns.get_loc(\"Groupes_postes\")\n",
    "    colonnes_competences = données.columns[index_colonne_debut:index_colonne_fin]\n",
    "    données_poste = données[données[\"Groupes_postes\"]== Groupes_postes]\n",
    "    moyennes_compétences = données_poste[colonnes_competences].mean().sort_values(ascending=False)\n",
    "    sns.barplot(x=moyennes_compétences.index, y=moyennes_compétences.values)\n",
    "    plt.xticks(rotation=45, ha='right')\n",
    "    return plt.show()  \n",
    "\n",
    "\n",
    "\n",
    "\"\"\"__________________FONCTION POUR VOIR LA DISTRIBUTION DES COMPETENCES_GROUPEES PAR GROUPE DE POSTES________________________\"\"\"\n",
    "\n",
    "\n",
    "\n",
    "def distribution_compétences_groupées(Groupe_postes=\"\"):\n",
    "    moyenne = moyenne_compétences_groupées(Groupe_postes=Groupe_postes)\n",
    "    sns.barplot(x=moyenne.index, y=moyenne.values)\n",
    "    plt.xticks(rotation=45, ha='right')\n",
    "    return plt.show()"
   ]
  },
  {
   "cell_type": "markdown",
   "id": "9ac44441",
   "metadata": {},
   "source": [
    "## Graphiques"
   ]
  },
  {
   "cell_type": "code",
   "execution_count": null,
   "id": "61e62d2d",
   "metadata": {},
   "outputs": [],
   "source": [
    "distribution_moyenne_compétences(Groupes_postes=\"Attaquant\")\n",
    "distribution_moyenne_compétences(Groupes_postes=\"Gardien\")\n",
    "distribution_moyenne_compétences(Groupes_postes=\"Milieu_défensif\")\n",
    "distribution_moyenne_compétences(Groupes_postes=\"Milieu_de_terrain\")\n",
    "distribution_moyenne_compétences(Groupes_postes=\"Defenseur\")\n",
    "distribution_moyenne_compétences(Groupes_postes=\"Ailier\")"
   ]
  },
  {
   "cell_type": "code",
   "execution_count": null,
   "id": "2388d183",
   "metadata": {
    "scrolled": false
   },
   "outputs": [],
   "source": [
    "# les joeurs les plus complets techniquement\n",
    "\n",
    "competences = [\"Crossing\", \"Finishing\", \"HeadingAccuracy\", \"ShortPassing\", \"Volleys\", \"Dribbling\",\n",
    "               \"Curve\", \"FKAccuracy\", \"LongPassing\", \"BallControl\", \"Acceleration\", \"SprintSpeed\",\n",
    "               \"Agility\", \"Reactions\", \"Balance\", \"ShotPower\", \"Jumping\", \"Stamina\", \"Strength\",\n",
    "               \"LongShots\", \"Aggression\", \"Interceptions\", \"Positioning\", \"Vision\", \"Penalties\",\n",
    "               \"Composure\", \"Marking\", \"StandingTackle\", \"SlidingTackle\", \"GKDiving\", \"GKHandling\",\n",
    "               \"GKKicking\", \"GKPositioning\", \"GKReflexes\"]\n",
    "\n",
    "# on Calcule les moyennes des compétences pour chaque groupe de postes\n",
    "moyennes_par_poste = données.groupby(\"Groupes_postes\")[competences].mean()\n",
    "\n",
    "# on Réorganise les colonnes pour les afficher par ordre décroissant de moyenne\n",
    "moyennes_par_poste = moyennes_par_poste[competences].mean(axis=1).sort_values(ascending=False)\n",
    "\n",
    "# on Crée un diagramme à barres avec seaborn\n",
    "sns.barplot(x=moyennes_par_poste.index, y=moyennes_par_poste.values)\n",
    "plt.xticks(rotation=45, ha='right')\n",
    "plt.show()"
   ]
  },
  {
   "cell_type": "code",
   "execution_count": null,
   "id": "6c41fe9c",
   "metadata": {},
   "outputs": [],
   "source": [
    "# Liste des catégories et des compétences associées\n",
    "categories_evaluations = {\n",
    "    \"Offensive\": [\"Crossing\", \"Finishing\", \"Volleys\", \"Dribbling\", \"Curve\", \"FKAccuracy\", \"LongShots\"],\n",
    "    \"Controles\": [\"ShortPassing\", \"LongPassing\", \"BallControl\", \"Vision\"],\n",
    "    \"Vitesse\": [\"Agility\", \"SprintSpeed\", \"Acceleration\"],\n",
    "    \"Force\": [\"Jumping\", \"ShotPower\", \"Stamina\", \"Strength\"],\n",
    "    \"Réactivité\": [\"Reactions\", \"Balance\", \"Aggression\", \"Composure\"],\n",
    "    \"Défense\": [\"Marking\", \"StandingTackle\", \"SlidingTackle\", \"Interceptions\"],\n",
    "    \"Vision\": [\"Positioning\", \"Vision\", \"Penalties\"]\n",
    "}\n",
    "\n",
    "# Calculer la moyenne pour chaque catégorie et ajouter les colonnes au DataFrame\n",
    "for categorie, competences in categories_evaluations.items():\n",
    "    données[f\"Moyenne_{categorie}\"] = données[competences].mean(axis=1)"
   ]
  },
  {
   "cell_type": "code",
   "execution_count": null,
   "id": "c2244c30",
   "metadata": {
    "scrolled": true
   },
   "outputs": [],
   "source": [
    "radar(label=\"ailier\",moyenne_gérée=moyenne_compétences_groupées(Groupe_postes=\"Ailier\"),couleur=\"red\")"
   ]
  },
  {
   "cell_type": "code",
   "execution_count": null,
   "id": "b0a8ec84",
   "metadata": {},
   "outputs": [],
   "source": [
    "radar(label=\"Défenseurs\",moyenne_gérée=moyenne_compétences_groupées(Groupe_postes=\"Defenseur\"),couleur=\"purple\")"
   ]
  },
  {
   "cell_type": "code",
   "execution_count": null,
   "id": "a5c15a73",
   "metadata": {
    "scrolled": true
   },
   "outputs": [],
   "source": [
    "radar(label=\"Attaquant\",moyenne_gérée=moyenne_compétences_groupées(Groupe_postes=\"Attaquant\"),couleur=\"green\")"
   ]
  },
  {
   "cell_type": "code",
   "execution_count": null,
   "id": "e7101234",
   "metadata": {
    "scrolled": true
   },
   "outputs": [],
   "source": [
    "radar(label=\"Milieu_défensif\",moyenne_gérée=moyenne_compétences_groupées(Groupe_postes=\"Milieu_défensif\"),couleur=\"blue\")"
   ]
  },
  {
   "cell_type": "code",
   "execution_count": null,
   "id": "d36148f4",
   "metadata": {
    "scrolled": true
   },
   "outputs": [],
   "source": [
    "radar(label=\"Milieu_de_terrain\",moyenne_gérée=moyenne_compétences_groupées(Groupe_postes=\"Milieu_de_terrain\"),couleur=\"black\")"
   ]
  },
  {
   "cell_type": "code",
   "execution_count": null,
   "id": "d00cc694",
   "metadata": {},
   "outputs": [],
   "source": [
    "distribution_compétences_groupées(Groupe_postes=\"Attaquant\")\n",
    "distribution_compétences_groupées(Groupe_postes=\"Milieu_défensif\")\n",
    "distribution_compétences_groupées(Groupe_postes=\"Ailier\")\n",
    "distribution_compétences_groupées(Groupe_postes=\"Milieu_de_terrain\")\n",
    "distribution_compétences_groupées(Groupe_postes=\"Defenseur\")"
   ]
  }
 ],
 "metadata": {
  "kernelspec": {
   "display_name": "Python 3 (ipykernel)",
   "language": "python",
   "name": "python3"
  },
  "language_info": {
   "codemirror_mode": {
    "name": "ipython",
    "version": 3
   },
   "file_extension": ".py",
   "mimetype": "text/x-python",
   "name": "python",
   "nbconvert_exporter": "python",
   "pygments_lexer": "ipython3",
   "version": "3.12.0"
  }
 },
 "nbformat": 4,
 "nbformat_minor": 5
}
